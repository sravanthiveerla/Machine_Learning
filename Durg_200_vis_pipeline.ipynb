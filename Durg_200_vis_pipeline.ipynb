{
 "cells": [
  {
   "cell_type": "code",
   "execution_count": 1,
   "id": "355c5a4e",
   "metadata": {},
   "outputs": [],
   "source": [
    "import pandas as pd\n",
    "import numpy as np\n",
    "import re\n",
    "import matplotlib.pyplot as plt\n",
    "import seaborn as sns\n",
    "import sklearn\n",
    "from sklearn.preprocessing import LabelEncoder\n",
    "import scipy.stats as ss\n",
    "from sklearn.model_selection import train_test_split\n",
    "from sklearn.preprocessing import PowerTransformer,FunctionTransformer,LabelEncoder,OneHotEncoder,OrdinalEncoder,StandardScaler\n",
    "from mixed_naive_bayes import MixedNB\n",
    "from sklearn.metrics import accuracy_score,confusion_matrix,precision_score,recall_score,f1_score,classification_report\n",
    "import random\n",
    "from sklearn.compose import ColumnTransformer\n",
    "from sklearn.pipeline import Pipeline,make_pipeline\n",
    "import pickle\n",
    "from sklearn.impute import SimpleImputer"
   ]
  },
  {
   "cell_type": "markdown",
   "id": "43ab48b4",
   "metadata": {},
   "source": [
    "### Problem Statement"
   ]
  },
  {
   "cell_type": "markdown",
   "id": "84238678",
   "metadata": {},
   "source": [
    "##### *Classify The Drug Based On their Features*"
   ]
  },
  {
   "cell_type": "markdown",
   "id": "88802f65",
   "metadata": {},
   "source": [
    "###  data collection"
   ]
  },
  {
   "cell_type": "code",
   "execution_count": 2,
   "id": "e10489b5",
   "metadata": {},
   "outputs": [],
   "source": [
    "data = pd.read_csv(r\"C:\\Users\\Sravanthi\\Downloads\\drug200.csv\")"
   ]
  },
  {
   "cell_type": "code",
   "execution_count": 3,
   "id": "9ded3ad5",
   "metadata": {},
   "outputs": [],
   "source": [
    "df=data.copy()"
   ]
  },
  {
   "cell_type": "code",
   "execution_count": 4,
   "id": "0f52a42f",
   "metadata": {},
   "outputs": [
    {
     "data": {
      "text/html": [
       "<div>\n",
       "<style scoped>\n",
       "    .dataframe tbody tr th:only-of-type {\n",
       "        vertical-align: middle;\n",
       "    }\n",
       "\n",
       "    .dataframe tbody tr th {\n",
       "        vertical-align: top;\n",
       "    }\n",
       "\n",
       "    .dataframe thead th {\n",
       "        text-align: right;\n",
       "    }\n",
       "</style>\n",
       "<table border=\"1\" class=\"dataframe\">\n",
       "  <thead>\n",
       "    <tr style=\"text-align: right;\">\n",
       "      <th></th>\n",
       "      <th>Age</th>\n",
       "      <th>Sex</th>\n",
       "      <th>BP</th>\n",
       "      <th>Cholesterol</th>\n",
       "      <th>Na_to_K</th>\n",
       "      <th>Drug</th>\n",
       "    </tr>\n",
       "  </thead>\n",
       "  <tbody>\n",
       "    <tr>\n",
       "      <th>0</th>\n",
       "      <td>23</td>\n",
       "      <td>F</td>\n",
       "      <td>HIGH</td>\n",
       "      <td>HIGH</td>\n",
       "      <td>25.355</td>\n",
       "      <td>DrugY</td>\n",
       "    </tr>\n",
       "    <tr>\n",
       "      <th>1</th>\n",
       "      <td>47</td>\n",
       "      <td>M</td>\n",
       "      <td>LOW</td>\n",
       "      <td>HIGH</td>\n",
       "      <td>13.093</td>\n",
       "      <td>drugC</td>\n",
       "    </tr>\n",
       "    <tr>\n",
       "      <th>2</th>\n",
       "      <td>47</td>\n",
       "      <td>M</td>\n",
       "      <td>LOW</td>\n",
       "      <td>HIGH</td>\n",
       "      <td>10.114</td>\n",
       "      <td>drugC</td>\n",
       "    </tr>\n",
       "    <tr>\n",
       "      <th>3</th>\n",
       "      <td>28</td>\n",
       "      <td>F</td>\n",
       "      <td>NORMAL</td>\n",
       "      <td>HIGH</td>\n",
       "      <td>7.798</td>\n",
       "      <td>drugX</td>\n",
       "    </tr>\n",
       "    <tr>\n",
       "      <th>4</th>\n",
       "      <td>61</td>\n",
       "      <td>F</td>\n",
       "      <td>LOW</td>\n",
       "      <td>HIGH</td>\n",
       "      <td>18.043</td>\n",
       "      <td>DrugY</td>\n",
       "    </tr>\n",
       "    <tr>\n",
       "      <th>...</th>\n",
       "      <td>...</td>\n",
       "      <td>...</td>\n",
       "      <td>...</td>\n",
       "      <td>...</td>\n",
       "      <td>...</td>\n",
       "      <td>...</td>\n",
       "    </tr>\n",
       "    <tr>\n",
       "      <th>195</th>\n",
       "      <td>56</td>\n",
       "      <td>F</td>\n",
       "      <td>LOW</td>\n",
       "      <td>HIGH</td>\n",
       "      <td>11.567</td>\n",
       "      <td>drugC</td>\n",
       "    </tr>\n",
       "    <tr>\n",
       "      <th>196</th>\n",
       "      <td>16</td>\n",
       "      <td>M</td>\n",
       "      <td>LOW</td>\n",
       "      <td>HIGH</td>\n",
       "      <td>12.006</td>\n",
       "      <td>drugC</td>\n",
       "    </tr>\n",
       "    <tr>\n",
       "      <th>197</th>\n",
       "      <td>52</td>\n",
       "      <td>M</td>\n",
       "      <td>NORMAL</td>\n",
       "      <td>HIGH</td>\n",
       "      <td>9.894</td>\n",
       "      <td>drugX</td>\n",
       "    </tr>\n",
       "    <tr>\n",
       "      <th>198</th>\n",
       "      <td>23</td>\n",
       "      <td>M</td>\n",
       "      <td>NORMAL</td>\n",
       "      <td>NORMAL</td>\n",
       "      <td>14.020</td>\n",
       "      <td>drugX</td>\n",
       "    </tr>\n",
       "    <tr>\n",
       "      <th>199</th>\n",
       "      <td>40</td>\n",
       "      <td>F</td>\n",
       "      <td>LOW</td>\n",
       "      <td>NORMAL</td>\n",
       "      <td>11.349</td>\n",
       "      <td>drugX</td>\n",
       "    </tr>\n",
       "  </tbody>\n",
       "</table>\n",
       "<p>200 rows × 6 columns</p>\n",
       "</div>"
      ],
      "text/plain": [
       "     Age Sex      BP Cholesterol  Na_to_K   Drug\n",
       "0     23   F    HIGH        HIGH   25.355  DrugY\n",
       "1     47   M     LOW        HIGH   13.093  drugC\n",
       "2     47   M     LOW        HIGH   10.114  drugC\n",
       "3     28   F  NORMAL        HIGH    7.798  drugX\n",
       "4     61   F     LOW        HIGH   18.043  DrugY\n",
       "..   ...  ..     ...         ...      ...    ...\n",
       "195   56   F     LOW        HIGH   11.567  drugC\n",
       "196   16   M     LOW        HIGH   12.006  drugC\n",
       "197   52   M  NORMAL        HIGH    9.894  drugX\n",
       "198   23   M  NORMAL      NORMAL   14.020  drugX\n",
       "199   40   F     LOW      NORMAL   11.349  drugX\n",
       "\n",
       "[200 rows x 6 columns]"
      ]
     },
     "execution_count": 4,
     "metadata": {},
     "output_type": "execute_result"
    }
   ],
   "source": [
    "df"
   ]
  },
  {
   "cell_type": "markdown",
   "id": "2a00e9ae",
   "metadata": {},
   "source": [
    "## EDA(Exploratoty Data Analysis)"
   ]
  },
  {
   "cell_type": "code",
   "execution_count": 6,
   "id": "bacdc9ae",
   "metadata": {},
   "outputs": [
    {
     "data": {
      "text/plain": [
       "(200, 6)"
      ]
     },
     "execution_count": 6,
     "metadata": {},
     "output_type": "execute_result"
    }
   ],
   "source": [
    "df.shape"
   ]
  },
  {
   "cell_type": "code",
   "execution_count": 7,
   "id": "b7a2cafa",
   "metadata": {},
   "outputs": [
    {
     "name": "stdout",
     "output_type": "stream",
     "text": [
      "<class 'pandas.core.frame.DataFrame'>\n",
      "RangeIndex: 200 entries, 0 to 199\n",
      "Data columns (total 6 columns):\n",
      " #   Column       Non-Null Count  Dtype  \n",
      "---  ------       --------------  -----  \n",
      " 0   Age          200 non-null    int64  \n",
      " 1   Sex          200 non-null    object \n",
      " 2   BP           200 non-null    object \n",
      " 3   Cholesterol  200 non-null    object \n",
      " 4   Na_to_K      200 non-null    float64\n",
      " 5   Drug         200 non-null    object \n",
      "dtypes: float64(1), int64(1), object(4)\n",
      "memory usage: 9.5+ KB\n"
     ]
    }
   ],
   "source": [
    "\n",
    "df.info()"
   ]
  },
  {
   "cell_type": "code",
   "execution_count": 47,
   "id": "0877645e",
   "metadata": {},
   "outputs": [
    {
     "data": {
      "text/plain": [
       "Age            0\n",
       "Sex            0\n",
       "BP             0\n",
       "Cholesterol    0\n",
       "Na_to_K        0\n",
       "Drug           0\n",
       "dtype: int64"
      ]
     },
     "execution_count": 47,
     "metadata": {},
     "output_type": "execute_result"
    }
   ],
   "source": [
    "df.isnull().sum()"
   ]
  },
  {
   "cell_type": "code",
   "execution_count": 8,
   "id": "b89eea81",
   "metadata": {},
   "outputs": [
    {
     "data": {
      "text/plain": [
       "Index(['Age', 'Sex', 'BP', 'Cholesterol', 'Na_to_K', 'Drug'], dtype='object')"
      ]
     },
     "execution_count": 8,
     "metadata": {},
     "output_type": "execute_result"
    }
   ],
   "source": [
    "df.columns"
   ]
  },
  {
   "cell_type": "code",
   "execution_count": 48,
   "id": "bbfa8c41",
   "metadata": {},
   "outputs": [
    {
     "data": {
      "text/plain": [
       "0"
      ]
     },
     "execution_count": 48,
     "metadata": {},
     "output_type": "execute_result"
    }
   ],
   "source": [
    "df.duplicated().sum()"
   ]
  },
  {
   "cell_type": "code",
   "execution_count": 50,
   "id": "695bc65e",
   "metadata": {},
   "outputs": [
    {
     "data": {
      "text/plain": [
       "DrugY    91\n",
       "drugX    54\n",
       "drugA    23\n",
       "drugC    16\n",
       "drugB    16\n",
       "Name: Drug, dtype: int64"
      ]
     },
     "execution_count": 50,
     "metadata": {},
     "output_type": "execute_result"
    }
   ],
   "source": [
    "df['Drug'].value_counts()"
   ]
  },
  {
   "cell_type": "code",
   "execution_count": 51,
   "id": "afeec084",
   "metadata": {},
   "outputs": [
    {
     "data": {
      "text/plain": [
       "['HIGH', 'LOW', 'NORMAL']\n",
       "Categories (3, object): ['HIGH', 'LOW', 'NORMAL']"
      ]
     },
     "execution_count": 51,
     "metadata": {},
     "output_type": "execute_result"
    }
   ],
   "source": [
    "df['BP'].unique()"
   ]
  },
  {
   "cell_type": "code",
   "execution_count": 9,
   "id": "fdc3e237",
   "metadata": {},
   "outputs": [],
   "source": [
    "df=df.astype(dtype = {'BP':'category','Cholesterol':'category'})"
   ]
  },
  {
   "cell_type": "code",
   "execution_count": null,
   "id": "cf7e7dad",
   "metadata": {},
   "outputs": [],
   "source": []
  },
  {
   "cell_type": "code",
   "execution_count": 10,
   "id": "3b844492",
   "metadata": {},
   "outputs": [
    {
     "name": "stdout",
     "output_type": "stream",
     "text": [
      "<class 'pandas.core.frame.DataFrame'>\n",
      "RangeIndex: 200 entries, 0 to 199\n",
      "Data columns (total 6 columns):\n",
      " #   Column       Non-Null Count  Dtype   \n",
      "---  ------       --------------  -----   \n",
      " 0   Age          200 non-null    int64   \n",
      " 1   Sex          200 non-null    object  \n",
      " 2   BP           200 non-null    category\n",
      " 3   Cholesterol  200 non-null    category\n",
      " 4   Na_to_K      200 non-null    float64 \n",
      " 5   Drug         200 non-null    object  \n",
      "dtypes: category(2), float64(1), int64(1), object(2)\n",
      "memory usage: 7.0+ KB\n"
     ]
    }
   ],
   "source": [
    "df.info()"
   ]
  },
  {
   "cell_type": "code",
   "execution_count": 11,
   "id": "56a004e5",
   "metadata": {},
   "outputs": [
    {
     "data": {
      "text/html": [
       "<div>\n",
       "<style scoped>\n",
       "    .dataframe tbody tr th:only-of-type {\n",
       "        vertical-align: middle;\n",
       "    }\n",
       "\n",
       "    .dataframe tbody tr th {\n",
       "        vertical-align: top;\n",
       "    }\n",
       "\n",
       "    .dataframe thead th {\n",
       "        text-align: right;\n",
       "    }\n",
       "</style>\n",
       "<table border=\"1\" class=\"dataframe\">\n",
       "  <thead>\n",
       "    <tr style=\"text-align: right;\">\n",
       "      <th></th>\n",
       "      <th>Age</th>\n",
       "      <th>Na_to_K</th>\n",
       "    </tr>\n",
       "  </thead>\n",
       "  <tbody>\n",
       "    <tr>\n",
       "      <th>count</th>\n",
       "      <td>200.000000</td>\n",
       "      <td>200.000000</td>\n",
       "    </tr>\n",
       "    <tr>\n",
       "      <th>mean</th>\n",
       "      <td>44.315000</td>\n",
       "      <td>16.084485</td>\n",
       "    </tr>\n",
       "    <tr>\n",
       "      <th>std</th>\n",
       "      <td>16.544315</td>\n",
       "      <td>7.223956</td>\n",
       "    </tr>\n",
       "    <tr>\n",
       "      <th>min</th>\n",
       "      <td>15.000000</td>\n",
       "      <td>6.269000</td>\n",
       "    </tr>\n",
       "    <tr>\n",
       "      <th>25%</th>\n",
       "      <td>31.000000</td>\n",
       "      <td>10.445500</td>\n",
       "    </tr>\n",
       "    <tr>\n",
       "      <th>50%</th>\n",
       "      <td>45.000000</td>\n",
       "      <td>13.936500</td>\n",
       "    </tr>\n",
       "    <tr>\n",
       "      <th>75%</th>\n",
       "      <td>58.000000</td>\n",
       "      <td>19.380000</td>\n",
       "    </tr>\n",
       "    <tr>\n",
       "      <th>max</th>\n",
       "      <td>74.000000</td>\n",
       "      <td>38.247000</td>\n",
       "    </tr>\n",
       "  </tbody>\n",
       "</table>\n",
       "</div>"
      ],
      "text/plain": [
       "              Age     Na_to_K\n",
       "count  200.000000  200.000000\n",
       "mean    44.315000   16.084485\n",
       "std     16.544315    7.223956\n",
       "min     15.000000    6.269000\n",
       "25%     31.000000   10.445500\n",
       "50%     45.000000   13.936500\n",
       "75%     58.000000   19.380000\n",
       "max     74.000000   38.247000"
      ]
     },
     "execution_count": 11,
     "metadata": {},
     "output_type": "execute_result"
    }
   ],
   "source": [
    "df.describe()"
   ]
  },
  {
   "cell_type": "code",
   "execution_count": 52,
   "id": "24f5dfc3",
   "metadata": {},
   "outputs": [
    {
     "data": {
      "text/plain": [
       "array(['F', 'M'], dtype=object)"
      ]
     },
     "execution_count": 52,
     "metadata": {},
     "output_type": "execute_result"
    }
   ],
   "source": [
    "df['Sex'].unique()"
   ]
  },
  {
   "cell_type": "code",
   "execution_count": 53,
   "id": "80fd62bb",
   "metadata": {},
   "outputs": [
    {
     "data": {
      "text/plain": [
       "['HIGH', 'NORMAL']\n",
       "Categories (2, object): ['HIGH', 'NORMAL']"
      ]
     },
     "execution_count": 53,
     "metadata": {},
     "output_type": "execute_result"
    }
   ],
   "source": [
    "df['Cholesterol'].unique()"
   ]
  },
  {
   "cell_type": "markdown",
   "id": "a350fa84",
   "metadata": {},
   "source": [
    "##  preprocessing"
   ]
  },
  {
   "cell_type": "code",
   "execution_count": 13,
   "id": "a2bc8eef",
   "metadata": {},
   "outputs": [],
   "source": [
    "feature_var = df[[\"Age\",\"Sex\",\"BP\",\"Cholesterol\",\"Na_to_K\"]]                                            # feature_variable\n",
    "class_var=df[\"Drug\"]                                               # class_variable"
   ]
  },
  {
   "cell_type": "code",
   "execution_count": 14,
   "id": "abcef4f0",
   "metadata": {},
   "outputs": [
    {
     "data": {
      "text/html": [
       "<div>\n",
       "<style scoped>\n",
       "    .dataframe tbody tr th:only-of-type {\n",
       "        vertical-align: middle;\n",
       "    }\n",
       "\n",
       "    .dataframe tbody tr th {\n",
       "        vertical-align: top;\n",
       "    }\n",
       "\n",
       "    .dataframe thead th {\n",
       "        text-align: right;\n",
       "    }\n",
       "</style>\n",
       "<table border=\"1\" class=\"dataframe\">\n",
       "  <thead>\n",
       "    <tr style=\"text-align: right;\">\n",
       "      <th></th>\n",
       "      <th>Age</th>\n",
       "      <th>Sex</th>\n",
       "      <th>BP</th>\n",
       "      <th>Cholesterol</th>\n",
       "      <th>Na_to_K</th>\n",
       "    </tr>\n",
       "  </thead>\n",
       "  <tbody>\n",
       "    <tr>\n",
       "      <th>0</th>\n",
       "      <td>23</td>\n",
       "      <td>F</td>\n",
       "      <td>HIGH</td>\n",
       "      <td>HIGH</td>\n",
       "      <td>25.355</td>\n",
       "    </tr>\n",
       "    <tr>\n",
       "      <th>1</th>\n",
       "      <td>47</td>\n",
       "      <td>M</td>\n",
       "      <td>LOW</td>\n",
       "      <td>HIGH</td>\n",
       "      <td>13.093</td>\n",
       "    </tr>\n",
       "    <tr>\n",
       "      <th>2</th>\n",
       "      <td>47</td>\n",
       "      <td>M</td>\n",
       "      <td>LOW</td>\n",
       "      <td>HIGH</td>\n",
       "      <td>10.114</td>\n",
       "    </tr>\n",
       "    <tr>\n",
       "      <th>3</th>\n",
       "      <td>28</td>\n",
       "      <td>F</td>\n",
       "      <td>NORMAL</td>\n",
       "      <td>HIGH</td>\n",
       "      <td>7.798</td>\n",
       "    </tr>\n",
       "    <tr>\n",
       "      <th>4</th>\n",
       "      <td>61</td>\n",
       "      <td>F</td>\n",
       "      <td>LOW</td>\n",
       "      <td>HIGH</td>\n",
       "      <td>18.043</td>\n",
       "    </tr>\n",
       "  </tbody>\n",
       "</table>\n",
       "</div>"
      ],
      "text/plain": [
       "   Age Sex      BP Cholesterol  Na_to_K\n",
       "0   23   F    HIGH        HIGH   25.355\n",
       "1   47   M     LOW        HIGH   13.093\n",
       "2   47   M     LOW        HIGH   10.114\n",
       "3   28   F  NORMAL        HIGH    7.798\n",
       "4   61   F     LOW        HIGH   18.043"
      ]
     },
     "execution_count": 14,
     "metadata": {},
     "output_type": "execute_result"
    }
   ],
   "source": [
    "feature_var.head()"
   ]
  },
  {
   "cell_type": "code",
   "execution_count": 15,
   "id": "010da91e",
   "metadata": {},
   "outputs": [
    {
     "data": {
      "text/plain": [
       "0      DrugY\n",
       "1      drugC\n",
       "2      drugC\n",
       "3      drugX\n",
       "4      DrugY\n",
       "       ...  \n",
       "195    drugC\n",
       "196    drugC\n",
       "197    drugX\n",
       "198    drugX\n",
       "199    drugX\n",
       "Name: Drug, Length: 200, dtype: object"
      ]
     },
     "execution_count": 15,
     "metadata": {},
     "output_type": "execute_result"
    }
   ],
   "source": [
    "class_var"
   ]
  },
  {
   "cell_type": "code",
   "execution_count": 56,
   "id": "b881b62c",
   "metadata": {},
   "outputs": [],
   "source": [
    "lb = LabelEncoder()   # give values in cv using the label encoder\n",
    "class_var = lb.fit_transform(class_var)"
   ]
  },
  {
   "cell_type": "code",
   "execution_count": 57,
   "id": "f5084e4f",
   "metadata": {},
   "outputs": [
    {
     "data": {
      "text/plain": [
       "array([0, 3, 3, 4, 0, 4, 0, 3, 0, 0, 3, 0, 0, 0, 4, 0, 4, 1, 3, 0, 0, 0,\n",
       "       0, 0, 0, 0, 0, 4, 0, 0, 4, 2, 4, 0, 4, 4, 1, 4, 4, 4, 0, 2, 0, 4,\n",
       "       4, 4, 1, 3, 0, 0, 0, 4, 0, 0, 2, 3, 2, 0, 4, 0, 0, 1, 0, 4, 2, 0,\n",
       "       1, 4, 0, 0, 2, 0, 4, 0, 0, 0, 1, 0, 1, 4, 2, 4, 3, 1, 3, 2, 4, 0,\n",
       "       0, 0, 0, 0, 0, 0, 0, 4, 0, 0, 0, 0, 1, 1, 3, 4, 0, 4, 4, 0, 2, 0,\n",
       "       1, 4, 4, 4, 4, 0, 4, 4, 1, 0, 0, 0, 0, 0, 2, 0, 0, 4, 0, 4, 0, 0,\n",
       "       4, 0, 0, 4, 2, 1, 2, 4, 1, 0, 2, 0, 1, 4, 4, 1, 4, 3, 1, 2, 4, 4,\n",
       "       0, 3, 1, 0, 3, 4, 4, 2, 4, 0, 0, 0, 0, 4, 0, 1, 4, 4, 0, 0, 1, 0,\n",
       "       1, 0, 0, 0, 0, 4, 4, 0, 0, 0, 2, 1, 0, 0, 0, 1, 0, 3, 0, 3, 3, 4,\n",
       "       4, 4])"
      ]
     },
     "execution_count": 57,
     "metadata": {},
     "output_type": "execute_result"
    }
   ],
   "source": [
    "class_var"
   ]
  },
  {
   "cell_type": "code",
   "execution_count": null,
   "id": "5a6ea85a",
   "metadata": {},
   "outputs": [],
   "source": [
    "# EDA"
   ]
  },
  {
   "cell_type": "code",
   "execution_count": 59,
   "id": "71680b90",
   "metadata": {},
   "outputs": [
    {
     "name": "stderr",
     "output_type": "stream",
     "text": [
      "C:\\Users\\Sravanthi\\AppData\\Local\\Temp\\ipykernel_7308\\681963724.py:3: FutureWarning: The default value of numeric_only in DataFrame.corr is deprecated. In a future version, it will default to False. Select only valid columns or specify the value of numeric_only to silence this warning.\n",
      "  corr_matrix = feature_var.corr()\n"
     ]
    },
    {
     "data": {
      "text/html": [
       "<div>\n",
       "<style scoped>\n",
       "    .dataframe tbody tr th:only-of-type {\n",
       "        vertical-align: middle;\n",
       "    }\n",
       "\n",
       "    .dataframe tbody tr th {\n",
       "        vertical-align: top;\n",
       "    }\n",
       "\n",
       "    .dataframe thead th {\n",
       "        text-align: right;\n",
       "    }\n",
       "</style>\n",
       "<table border=\"1\" class=\"dataframe\">\n",
       "  <thead>\n",
       "    <tr style=\"text-align: right;\">\n",
       "      <th></th>\n",
       "      <th>Age</th>\n",
       "      <th>Na_to_K</th>\n",
       "    </tr>\n",
       "  </thead>\n",
       "  <tbody>\n",
       "    <tr>\n",
       "      <th>Age</th>\n",
       "      <td>1.000000</td>\n",
       "      <td>-0.063119</td>\n",
       "    </tr>\n",
       "    <tr>\n",
       "      <th>Na_to_K</th>\n",
       "      <td>-0.063119</td>\n",
       "      <td>1.000000</td>\n",
       "    </tr>\n",
       "  </tbody>\n",
       "</table>\n",
       "</div>"
      ],
      "text/plain": [
       "              Age   Na_to_K\n",
       "Age      1.000000 -0.063119\n",
       "Na_to_K -0.063119  1.000000"
      ]
     },
     "execution_count": 59,
     "metadata": {},
     "output_type": "execute_result"
    }
   ],
   "source": [
    "# find the relation between features\n",
    "# Correlation matrix\n",
    "corr_matrix = feature_var.corr()\n",
    "corr_matrix"
   ]
  },
  {
   "cell_type": "code",
   "execution_count": 60,
   "id": "00711783",
   "metadata": {},
   "outputs": [
    {
     "data": {
      "image/png": "[encoded data removed]",
      "text/plain": [
       "<Figure size 640x480 with 2 Axes>"
      ]
     },
     "metadata": {},
     "output_type": "display_data"
    }
   ],
   "source": [
    "sns.heatmap(corr_matrix,annot=True) # find the relation between features\n",
    "plt.show()"
   ]
  },
  {
   "cell_type": "markdown",
   "id": "903bc0d3",
   "metadata": {},
   "source": [
    "## Feature Engineering"
   ]
  },
  {
   "cell_type": "code",
   "execution_count": 63,
   "id": "32397a4c",
   "metadata": {},
   "outputs": [],
   "source": [
    "# split the data into train and test based on fv and cv\n",
    "x_train,x_test,y_train,y_test=train_test_split(feature_var,class_var,test_size=0.2,stratify = class_var)"
   ]
  },
  {
   "cell_type": "code",
   "execution_count": 64,
   "id": "d35e9e27",
   "metadata": {},
   "outputs": [],
   "source": [
    "numerical_data = x_train.select_dtypes(include=[\"int64\",\"float64\"])\n",
    "categorical_data = x_train.select_dtypes(include=[\"object\"])\n",
    "ordinal_data =  x_train.select_dtypes(include=[\"category\"])"
   ]
  },
  {
   "cell_type": "code",
   "execution_count": 65,
   "id": "70083145",
   "metadata": {},
   "outputs": [
    {
     "data": {
      "text/html": [
       "<div>\n",
       "<style scoped>\n",
       "    .dataframe tbody tr th:only-of-type {\n",
       "        vertical-align: middle;\n",
       "    }\n",
       "\n",
       "    .dataframe tbody tr th {\n",
       "        vertical-align: top;\n",
       "    }\n",
       "\n",
       "    .dataframe thead th {\n",
       "        text-align: right;\n",
       "    }\n",
       "</style>\n",
       "<table border=\"1\" class=\"dataframe\">\n",
       "  <thead>\n",
       "    <tr style=\"text-align: right;\">\n",
       "      <th></th>\n",
       "      <th>BP</th>\n",
       "      <th>Cholesterol</th>\n",
       "    </tr>\n",
       "  </thead>\n",
       "  <tbody>\n",
       "    <tr>\n",
       "      <th>109</th>\n",
       "      <td>NORMAL</td>\n",
       "      <td>HIGH</td>\n",
       "    </tr>\n",
       "    <tr>\n",
       "      <th>107</th>\n",
       "      <td>LOW</td>\n",
       "      <td>HIGH</td>\n",
       "    </tr>\n",
       "    <tr>\n",
       "      <th>127</th>\n",
       "      <td>NORMAL</td>\n",
       "      <td>NORMAL</td>\n",
       "    </tr>\n",
       "    <tr>\n",
       "      <th>9</th>\n",
       "      <td>LOW</td>\n",
       "      <td>NORMAL</td>\n",
       "    </tr>\n",
       "    <tr>\n",
       "      <th>62</th>\n",
       "      <td>LOW</td>\n",
       "      <td>NORMAL</td>\n",
       "    </tr>\n",
       "    <tr>\n",
       "      <th>...</th>\n",
       "      <td>...</td>\n",
       "      <td>...</td>\n",
       "    </tr>\n",
       "    <tr>\n",
       "      <th>28</th>\n",
       "      <td>LOW</td>\n",
       "      <td>NORMAL</td>\n",
       "    </tr>\n",
       "    <tr>\n",
       "      <th>126</th>\n",
       "      <td>HIGH</td>\n",
       "      <td>HIGH</td>\n",
       "    </tr>\n",
       "    <tr>\n",
       "      <th>130</th>\n",
       "      <td>NORMAL</td>\n",
       "      <td>HIGH</td>\n",
       "    </tr>\n",
       "    <tr>\n",
       "      <th>157</th>\n",
       "      <td>LOW</td>\n",
       "      <td>HIGH</td>\n",
       "    </tr>\n",
       "    <tr>\n",
       "      <th>124</th>\n",
       "      <td>HIGH</td>\n",
       "      <td>NORMAL</td>\n",
       "    </tr>\n",
       "  </tbody>\n",
       "</table>\n",
       "<p>160 rows × 2 columns</p>\n",
       "</div>"
      ],
      "text/plain": [
       "         BP Cholesterol\n",
       "109  NORMAL        HIGH\n",
       "107     LOW        HIGH\n",
       "127  NORMAL      NORMAL\n",
       "9       LOW      NORMAL\n",
       "62      LOW      NORMAL\n",
       "..      ...         ...\n",
       "28      LOW      NORMAL\n",
       "126    HIGH        HIGH\n",
       "130  NORMAL        HIGH\n",
       "157     LOW        HIGH\n",
       "124    HIGH      NORMAL\n",
       "\n",
       "[160 rows x 2 columns]"
      ]
     },
     "execution_count": 65,
     "metadata": {},
     "output_type": "execute_result"
    }
   ],
   "source": [
    "ordinal_data"
   ]
  },
  {
   "cell_type": "code",
   "execution_count": 66,
   "id": "c0ecfd3a",
   "metadata": {},
   "outputs": [],
   "source": [
    "num_p = Pipeline([(\"imp_n\",SimpleImputer()),(\"scaling\",StandardScaler())])"
   ]
  },
  {
   "cell_type": "code",
   "execution_count": 67,
   "id": "5ef57247",
   "metadata": {},
   "outputs": [],
   "source": [
    "cat_p = Pipeline([(\"imp_n\",SimpleImputer(strategy='most_frequent')),(\"ohe\",OneHotEncoder(sparse_output=False,drop =\"first\"))])"
   ]
  },
  {
   "cell_type": "code",
   "execution_count": 68,
   "id": "d9d9dafa",
   "metadata": {},
   "outputs": [],
   "source": [
    "ord_p = Pipeline([('Null_values_imputation_2', SimpleImputer(strategy='most_frequent')),\n",
    "                         ('Ordinal_Encoding', OrdinalEncoder(categories= [['NORMAL','LOW','HIGH'],['NORMAL','HIGH']]))])"
   ]
  },
  {
   "cell_type": "code",
   "execution_count": 69,
   "id": "2e2b3632",
   "metadata": {},
   "outputs": [],
   "source": [
    "ctp = ColumnTransformer([(\"num\",num_p,numerical_data.columns),(\"cat\",cat_p,categorical_data.columns),([\"ord\",ord_p,ordinal_data.columns])],remainder=\"passthrough\")"
   ]
  },
  {
   "cell_type": "code",
   "execution_count": 70,
   "id": "e8b456f9",
   "metadata": {},
   "outputs": [],
   "source": [
    "finalp =  Pipeline([(\"preprocess\",ctp)]) "
   ]
  },
  {
   "cell_type": "code",
   "execution_count": 71,
   "id": "f62c7b14",
   "metadata": {},
   "outputs": [
    {
     "data": {
      "text/html": [
       "<style>#sk-container-id-1 {color: black;}#sk-container-id-1 pre{padding: 0;}#sk-container-id-1 div.sk-toggleable {background-color: white;}#sk-container-id-1 label.sk-toggleable__label {cursor: pointer;display: block;width: 100%;margin-bottom: 0;padding: 0.3em;box-sizing: border-box;text-align: center;}#sk-container-id-1 label.sk-toggleable__label-arrow:before {content: \"▸\";float: left;margin-right: 0.25em;color: #696969;}#sk-container-id-1 label.sk-toggleable__label-arrow:hover:before {color: black;}#sk-container-id-1 div.sk-estimator:hover label.sk-toggleable__label-arrow:before {color: black;}#sk-container-id-1 div.sk-toggleable__content {max-height: 0;max-width: 0;overflow: hidden;text-align: left;background-color: #f0f8ff;}#sk-container-id-1 div.sk-toggleable__content pre {margin: 0.2em;color: black;border-radius: 0.25em;background-color: #f0f8ff;}#sk-container-id-1 input.sk-toggleable__control:checked~div.sk-toggleable__content {max-height: 200px;max-width: 100%;overflow: auto;}#sk-container-id-1 input.sk-toggleable__control:checked~label.sk-toggleable__label-arrow:before {content: \"▾\";}#sk-container-id-1 div.sk-estimator input.sk-toggleable__control:checked~label.sk-toggleable__label {background-color: #d4ebff;}#sk-container-id-1 div.sk-label input.sk-toggleable__control:checked~label.sk-toggleable__label {background-color: #d4ebff;}#sk-container-id-1 input.sk-hidden--visually {border: 0;clip: rect(1px 1px 1px 1px);clip: rect(1px, 1px, 1px, 1px);height: 1px;margin: -1px;overflow: hidden;padding: 0;position: absolute;width: 1px;}#sk-container-id-1 div.sk-estimator {font-family: monospace;background-color: #f0f8ff;border: 1px dotted black;border-radius: 0.25em;box-sizing: border-box;margin-bottom: 0.5em;}#sk-container-id-1 div.sk-estimator:hover {background-color: #d4ebff;}#sk-container-id-1 div.sk-parallel-item::after {content: \"\";width: 100%;border-bottom: 1px solid gray;flex-grow: 1;}#sk-container-id-1 div.sk-label:hover label.sk-toggleable__label {background-color: #d4ebff;}#sk-container-id-1 div.sk-serial::before {content: \"\";position: absolute;border-left: 1px solid gray;box-sizing: border-box;top: 0;bottom: 0;left: 50%;z-index: 0;}#sk-container-id-1 div.sk-serial {display: flex;flex-direction: column;align-items: center;background-color: white;padding-right: 0.2em;padding-left: 0.2em;position: relative;}#sk-container-id-1 div.sk-item {position: relative;z-index: 1;}#sk-container-id-1 div.sk-parallel {display: flex;align-items: stretch;justify-content: center;background-color: white;position: relative;}#sk-container-id-1 div.sk-item::before, #sk-container-id-1 div.sk-parallel-item::before {content: \"\";position: absolute;border-left: 1px solid gray;box-sizing: border-box;top: 0;bottom: 0;left: 50%;z-index: -1;}#sk-container-id-1 div.sk-parallel-item {display: flex;flex-direction: column;z-index: 1;position: relative;background-color: white;}#sk-container-id-1 div.sk-parallel-item:first-child::after {align-self: flex-end;width: 50%;}#sk-container-id-1 div.sk-parallel-item:last-child::after {align-self: flex-start;width: 50%;}#sk-container-id-1 div.sk-parallel-item:only-child::after {width: 0;}#sk-container-id-1 div.sk-dashed-wrapped {border: 1px dashed gray;margin: 0 0.4em 0.5em 0.4em;box-sizing: border-box;padding-bottom: 0.4em;background-color: white;}#sk-container-id-1 div.sk-label label {font-family: monospace;font-weight: bold;display: inline-block;line-height: 1.2em;}#sk-container-id-1 div.sk-label-container {text-align: center;}#sk-container-id-1 div.sk-container {/* jupyter's `normalize.less` sets `[hidden] { display: none; }` but bootstrap.min.css set `[hidden] { display: none !important; }` so we also need the `!important` here to be able to override the default hidden behavior on the sphinx rendered scikit-learn.org. See: https://github.com/scikit-learn/scikit-learn/issues/21755 */display: inline-block !important;position: relative;}#sk-container-id-1 div.sk-text-repr-fallback {display: none;}</style><div id=\"sk-container-id-1\" class=\"sk-top-container\"><div class=\"sk-text-repr-fallback\"><pre>Pipeline(steps=[(&#x27;preprocess&#x27;,\n",
       "                 ColumnTransformer(remainder=&#x27;passthrough&#x27;,\n",
       "                                   transformers=[(&#x27;num&#x27;,\n",
       "                                                  Pipeline(steps=[(&#x27;imp_n&#x27;,\n",
       "                                                                   SimpleImputer()),\n",
       "                                                                  (&#x27;scaling&#x27;,\n",
       "                                                                   StandardScaler())]),\n",
       "                                                  Index([&#x27;Age&#x27;, &#x27;Na_to_K&#x27;], dtype=&#x27;object&#x27;)),\n",
       "                                                 (&#x27;cat&#x27;,\n",
       "                                                  Pipeline(steps=[(&#x27;imp_n&#x27;,\n",
       "                                                                   SimpleImputer(strategy=&#x27;most_frequent&#x27;)),\n",
       "                                                                  (&#x27;ohe&#x27;,\n",
       "                                                                   OneHotEncoder(drop=&#x27;first&#x27;,\n",
       "                                                                                 sparse_output=False))]),\n",
       "                                                  Index([&#x27;Sex&#x27;], dtype=&#x27;object&#x27;)),\n",
       "                                                 [&#x27;ord&#x27;,\n",
       "                                                  Pipeline(steps=[(&#x27;Null_values_imputation_2&#x27;,\n",
       "                                                                   SimpleImputer(strategy=&#x27;most_frequent&#x27;)),\n",
       "                                                                  (&#x27;Ordinal_Encoding&#x27;,\n",
       "                                                                   OrdinalEncoder(categories=[[&#x27;NORMAL&#x27;,\n",
       "                                                                                               &#x27;LOW&#x27;,\n",
       "                                                                                               &#x27;HIGH&#x27;],\n",
       "                                                                                              [&#x27;NORMAL&#x27;,\n",
       "                                                                                               &#x27;HIGH&#x27;]]))]),\n",
       "                                                  Index([&#x27;BP&#x27;, &#x27;Cholesterol&#x27;], dtype=&#x27;object&#x27;)]]))])</pre><b>In a Jupyter environment, please rerun this cell to show the HTML representation or trust the notebook. <br />On GitHub, the HTML representation is unable to render, please try loading this page with nbviewer.org.</b></div><div class=\"sk-container\" hidden><div class=\"sk-item sk-dashed-wrapped\"><div class=\"sk-label-container\"><div class=\"sk-label sk-toggleable\"><input class=\"sk-toggleable__control sk-hidden--visually\" id=\"sk-estimator-id-1\" type=\"checkbox\" ><label for=\"sk-estimator-id-1\" class=\"sk-toggleable__label sk-toggleable__label-arrow\">Pipeline</label><div class=\"sk-toggleable__content\"><pre>Pipeline(steps=[(&#x27;preprocess&#x27;,\n",
       "                 ColumnTransformer(remainder=&#x27;passthrough&#x27;,\n",
       "                                   transformers=[(&#x27;num&#x27;,\n",
       "                                                  Pipeline(steps=[(&#x27;imp_n&#x27;,\n",
       "                                                                   SimpleImputer()),\n",
       "                                                                  (&#x27;scaling&#x27;,\n",
       "                                                                   StandardScaler())]),\n",
       "                                                  Index([&#x27;Age&#x27;, &#x27;Na_to_K&#x27;], dtype=&#x27;object&#x27;)),\n",
       "                                                 (&#x27;cat&#x27;,\n",
       "                                                  Pipeline(steps=[(&#x27;imp_n&#x27;,\n",
       "                                                                   SimpleImputer(strategy=&#x27;most_frequent&#x27;)),\n",
       "                                                                  (&#x27;ohe&#x27;,\n",
       "                                                                   OneHotEncoder(drop=&#x27;first&#x27;,\n",
       "                                                                                 sparse_output=False))]),\n",
       "                                                  Index([&#x27;Sex&#x27;], dtype=&#x27;object&#x27;)),\n",
       "                                                 [&#x27;ord&#x27;,\n",
       "                                                  Pipeline(steps=[(&#x27;Null_values_imputation_2&#x27;,\n",
       "                                                                   SimpleImputer(strategy=&#x27;most_frequent&#x27;)),\n",
       "                                                                  (&#x27;Ordinal_Encoding&#x27;,\n",
       "                                                                   OrdinalEncoder(categories=[[&#x27;NORMAL&#x27;,\n",
       "                                                                                               &#x27;LOW&#x27;,\n",
       "                                                                                               &#x27;HIGH&#x27;],\n",
       "                                                                                              [&#x27;NORMAL&#x27;,\n",
       "                                                                                               &#x27;HIGH&#x27;]]))]),\n",
       "                                                  Index([&#x27;BP&#x27;, &#x27;Cholesterol&#x27;], dtype=&#x27;object&#x27;)]]))])</pre></div></div></div><div class=\"sk-serial\"><div class=\"sk-item sk-dashed-wrapped\"><div class=\"sk-label-container\"><div class=\"sk-label sk-toggleable\"><input class=\"sk-toggleable__control sk-hidden--visually\" id=\"sk-estimator-id-2\" type=\"checkbox\" ><label for=\"sk-estimator-id-2\" class=\"sk-toggleable__label sk-toggleable__label-arrow\">preprocess: ColumnTransformer</label><div class=\"sk-toggleable__content\"><pre>ColumnTransformer(remainder=&#x27;passthrough&#x27;,\n",
       "                  transformers=[(&#x27;num&#x27;,\n",
       "                                 Pipeline(steps=[(&#x27;imp_n&#x27;, SimpleImputer()),\n",
       "                                                 (&#x27;scaling&#x27;,\n",
       "                                                  StandardScaler())]),\n",
       "                                 Index([&#x27;Age&#x27;, &#x27;Na_to_K&#x27;], dtype=&#x27;object&#x27;)),\n",
       "                                (&#x27;cat&#x27;,\n",
       "                                 Pipeline(steps=[(&#x27;imp_n&#x27;,\n",
       "                                                  SimpleImputer(strategy=&#x27;most_frequent&#x27;)),\n",
       "                                                 (&#x27;ohe&#x27;,\n",
       "                                                  OneHotEncoder(drop=&#x27;first&#x27;,\n",
       "                                                                sparse_output=False))]),\n",
       "                                 Index([&#x27;Sex&#x27;], dtype=&#x27;object&#x27;)),\n",
       "                                [&#x27;ord&#x27;,\n",
       "                                 Pipeline(steps=[(&#x27;Null_values_imputation_2&#x27;,\n",
       "                                                  SimpleImputer(strategy=&#x27;most_frequent&#x27;)),\n",
       "                                                 (&#x27;Ordinal_Encoding&#x27;,\n",
       "                                                  OrdinalEncoder(categories=[[&#x27;NORMAL&#x27;,\n",
       "                                                                              &#x27;LOW&#x27;,\n",
       "                                                                              &#x27;HIGH&#x27;],\n",
       "                                                                             [&#x27;NORMAL&#x27;,\n",
       "                                                                              &#x27;HIGH&#x27;]]))]),\n",
       "                                 Index([&#x27;BP&#x27;, &#x27;Cholesterol&#x27;], dtype=&#x27;object&#x27;)]])</pre></div></div></div><div class=\"sk-parallel\"><div class=\"sk-parallel-item\"><div class=\"sk-item\"><div class=\"sk-label-container\"><div class=\"sk-label sk-toggleable\"><input class=\"sk-toggleable__control sk-hidden--visually\" id=\"sk-estimator-id-3\" type=\"checkbox\" ><label for=\"sk-estimator-id-3\" class=\"sk-toggleable__label sk-toggleable__label-arrow\">num</label><div class=\"sk-toggleable__content\"><pre>Index([&#x27;Age&#x27;, &#x27;Na_to_K&#x27;], dtype=&#x27;object&#x27;)</pre></div></div></div><div class=\"sk-serial\"><div class=\"sk-item\"><div class=\"sk-serial\"><div class=\"sk-item\"><div class=\"sk-estimator sk-toggleable\"><input class=\"sk-toggleable__control sk-hidden--visually\" id=\"sk-estimator-id-4\" type=\"checkbox\" ><label for=\"sk-estimator-id-4\" class=\"sk-toggleable__label sk-toggleable__label-arrow\">SimpleImputer</label><div class=\"sk-toggleable__content\"><pre>SimpleImputer()</pre></div></div></div><div class=\"sk-item\"><div class=\"sk-estimator sk-toggleable\"><input class=\"sk-toggleable__control sk-hidden--visually\" id=\"sk-estimator-id-5\" type=\"checkbox\" ><label for=\"sk-estimator-id-5\" class=\"sk-toggleable__label sk-toggleable__label-arrow\">StandardScaler</label><div class=\"sk-toggleable__content\"><pre>StandardScaler()</pre></div></div></div></div></div></div></div></div><div class=\"sk-parallel-item\"><div class=\"sk-item\"><div class=\"sk-label-container\"><div class=\"sk-label sk-toggleable\"><input class=\"sk-toggleable__control sk-hidden--visually\" id=\"sk-estimator-id-6\" type=\"checkbox\" ><label for=\"sk-estimator-id-6\" class=\"sk-toggleable__label sk-toggleable__label-arrow\">cat</label><div class=\"sk-toggleable__content\"><pre>Index([&#x27;Sex&#x27;], dtype=&#x27;object&#x27;)</pre></div></div></div><div class=\"sk-serial\"><div class=\"sk-item\"><div class=\"sk-serial\"><div class=\"sk-item\"><div class=\"sk-estimator sk-toggleable\"><input class=\"sk-toggleable__control sk-hidden--visually\" id=\"sk-estimator-id-7\" type=\"checkbox\" ><label for=\"sk-estimator-id-7\" class=\"sk-toggleable__label sk-toggleable__label-arrow\">SimpleImputer</label><div class=\"sk-toggleable__content\"><pre>SimpleImputer(strategy=&#x27;most_frequent&#x27;)</pre></div></div></div><div class=\"sk-item\"><div class=\"sk-estimator sk-toggleable\"><input class=\"sk-toggleable__control sk-hidden--visually\" id=\"sk-estimator-id-8\" type=\"checkbox\" ><label for=\"sk-estimator-id-8\" class=\"sk-toggleable__label sk-toggleable__label-arrow\">OneHotEncoder</label><div class=\"sk-toggleable__content\"><pre>OneHotEncoder(drop=&#x27;first&#x27;, sparse_output=False)</pre></div></div></div></div></div></div></div></div><div class=\"sk-parallel-item\"><div class=\"sk-item\"><div class=\"sk-label-container\"><div class=\"sk-label sk-toggleable\"><input class=\"sk-toggleable__control sk-hidden--visually\" id=\"sk-estimator-id-9\" type=\"checkbox\" ><label for=\"sk-estimator-id-9\" class=\"sk-toggleable__label sk-toggleable__label-arrow\">ord</label><div class=\"sk-toggleable__content\"><pre>Index([&#x27;BP&#x27;, &#x27;Cholesterol&#x27;], dtype=&#x27;object&#x27;)</pre></div></div></div><div class=\"sk-serial\"><div class=\"sk-item\"><div class=\"sk-serial\"><div class=\"sk-item\"><div class=\"sk-estimator sk-toggleable\"><input class=\"sk-toggleable__control sk-hidden--visually\" id=\"sk-estimator-id-10\" type=\"checkbox\" ><label for=\"sk-estimator-id-10\" class=\"sk-toggleable__label sk-toggleable__label-arrow\">SimpleImputer</label><div class=\"sk-toggleable__content\"><pre>SimpleImputer(strategy=&#x27;most_frequent&#x27;)</pre></div></div></div><div class=\"sk-item\"><div class=\"sk-estimator sk-toggleable\"><input class=\"sk-toggleable__control sk-hidden--visually\" id=\"sk-estimator-id-11\" type=\"checkbox\" ><label for=\"sk-estimator-id-11\" class=\"sk-toggleable__label sk-toggleable__label-arrow\">OrdinalEncoder</label><div class=\"sk-toggleable__content\"><pre>OrdinalEncoder(categories=[[&#x27;NORMAL&#x27;, &#x27;LOW&#x27;, &#x27;HIGH&#x27;], [&#x27;NORMAL&#x27;, &#x27;HIGH&#x27;]])</pre></div></div></div></div></div></div></div></div><div class=\"sk-parallel-item\"><div class=\"sk-item\"><div class=\"sk-label-container\"><div class=\"sk-label sk-toggleable\"><input class=\"sk-toggleable__control sk-hidden--visually\" id=\"sk-estimator-id-12\" type=\"checkbox\" ><label for=\"sk-estimator-id-12\" class=\"sk-toggleable__label sk-toggleable__label-arrow\">remainder</label><div class=\"sk-toggleable__content\"><pre></pre></div></div></div><div class=\"sk-serial\"><div class=\"sk-item\"><div class=\"sk-estimator sk-toggleable\"><input class=\"sk-toggleable__control sk-hidden--visually\" id=\"sk-estimator-id-13\" type=\"checkbox\" ><label for=\"sk-estimator-id-13\" class=\"sk-toggleable__label sk-toggleable__label-arrow\">passthrough</label><div class=\"sk-toggleable__content\"><pre>passthrough</pre></div></div></div></div></div></div></div></div></div></div></div></div>"
      ],
      "text/plain": [
       "Pipeline(steps=[('preprocess',\n",
       "                 ColumnTransformer(remainder='passthrough',\n",
       "                                   transformers=[('num',\n",
       "                                                  Pipeline(steps=[('imp_n',\n",
       "                                                                   SimpleImputer()),\n",
       "                                                                  ('scaling',\n",
       "                                                                   StandardScaler())]),\n",
       "                                                  Index(['Age', 'Na_to_K'], dtype='object')),\n",
       "                                                 ('cat',\n",
       "                                                  Pipeline(steps=[('imp_n',\n",
       "                                                                   SimpleImputer(strategy='most_frequent')),\n",
       "                                                                  ('ohe',\n",
       "                                                                   OneHotEncoder(drop='first',\n",
       "                                                                                 sparse_output=False))]),\n",
       "                                                  Index(['Sex'], dtype='object')),\n",
       "                                                 ['ord',\n",
       "                                                  Pipeline(steps=[('Null_values_imputation_2',\n",
       "                                                                   SimpleImputer(strategy='most_frequent')),\n",
       "                                                                  ('Ordinal_Encoding',\n",
       "                                                                   OrdinalEncoder(categories=[['NORMAL',\n",
       "                                                                                               'LOW',\n",
       "                                                                                               'HIGH'],\n",
       "                                                                                              ['NORMAL',\n",
       "                                                                                               'HIGH']]))]),\n",
       "                                                  Index(['BP', 'Cholesterol'], dtype='object')]]))])"
      ]
     },
     "execution_count": 71,
     "metadata": {},
     "output_type": "execute_result"
    }
   ],
   "source": [
    "finalp"
   ]
  },
  {
   "cell_type": "code",
   "execution_count": 72,
   "id": "fa106e67",
   "metadata": {},
   "outputs": [
    {
     "data": {
      "text/plain": [
       "array([[-1.28951797,  0.1435453 ,  1.        ,  0.        ,  1.        ],\n",
       "       [-0.14928102,  0.60570734,  1.        ,  1.        ,  1.        ],\n",
       "       [-0.56936832, -1.17222114,  1.        ,  0.        ,  0.        ],\n",
       "       [-0.08926855,  0.51146311,  1.        ,  1.        ,  0.        ],\n",
       "       [ 1.35103075,  0.70506561,  1.        ,  1.        ,  0.        ],\n",
       "       [ 0.33081875, -0.52200896,  0.        ,  0.        ,  0.        ],\n",
       "       [ 0.87093098, -0.792468  ,  0.        ,  1.        ,  1.        ],\n",
       "       [-0.3893309 ,  2.04669441,  0.        ,  1.        ,  0.        ],\n",
       "       [-1.10948055, -0.24950431,  0.        ,  1.        ,  1.        ],\n",
       "       [-0.74940573,  1.47669942,  0.        ,  2.        ,  0.        ],\n",
       "       [ 0.93094345, -0.84404663,  1.        ,  0.        ,  0.        ],\n",
       "       [ 0.6308811 , -0.71458866,  0.        ,  2.        ,  1.        ],\n",
       "       [-1.70960526, -0.56423623,  1.        ,  1.        ,  1.        ],\n",
       "       [-0.98945561, -0.43667775,  0.        ,  0.        ,  1.        ],\n",
       "       [-1.28951797,  1.38625418,  0.        ,  2.        ,  1.        ],\n",
       "       [-1.76961773,  0.19556227,  1.        ,  2.        ,  0.        ],\n",
       "       [ 0.75090604,  1.4648641 ,  0.        ,  0.        ,  0.        ],\n",
       "       [ 1.35103075, -0.72613175,  1.        ,  0.        ,  0.        ],\n",
       "       [ 1.23100581,  2.33907072,  0.        ,  2.        ,  0.        ],\n",
       "       [ 0.99095592, -1.24600926,  0.        ,  1.        ,  0.        ],\n",
       "       [ 1.47105569, -0.05692461,  1.        ,  1.        ,  1.        ],\n",
       "       [-0.92944314, -0.44003839,  1.        ,  2.        ,  1.        ],\n",
       "       [ 1.6510931 , -0.90453828,  1.        ,  2.        ,  0.        ],\n",
       "       [ 0.15078133,  2.14795217,  1.        ,  1.        ,  0.        ],\n",
       "       [ 0.27080627, -0.94778835,  0.        ,  0.        ,  0.        ],\n",
       "       [ 0.69089357, -1.00842611,  1.        ,  0.        ,  1.        ],\n",
       "       [ 1.6510931 , -0.17907683,  0.        ,  1.        ,  0.        ],\n",
       "       [-0.50935585,  0.12937213,  0.        ,  0.        ,  1.        ],\n",
       "       [ 0.27080627, -1.40249853,  1.        ,  2.        ,  0.        ],\n",
       "       [-1.46955538,  2.88890182,  1.        ,  2.        ,  0.        ],\n",
       "       [ 0.39083122,  1.04259148,  0.        ,  1.        ,  0.        ],\n",
       "       [-1.28951797, -0.26996042,  1.        ,  0.        ,  0.        ],\n",
       "       [-0.20929349,  1.0282722 ,  0.        ,  0.        ,  0.        ],\n",
       "       [ 1.23100581, -0.66154888,  1.        ,  2.        ,  0.        ],\n",
       "       [-0.44934337, -0.40570135,  0.        ,  2.        ,  1.        ],\n",
       "       [-1.34953044,  1.01556018,  0.        ,  2.        ,  0.        ],\n",
       "       [-1.34953044,  1.81568645,  1.        ,  2.        ,  0.        ],\n",
       "       [ 1.41104322, -0.82972735,  0.        ,  2.        ,  0.        ],\n",
       "       [-0.8094182 , -0.58396176,  1.        ,  2.        ,  0.        ],\n",
       "       [-0.74940573, -0.89942425,  0.        ,  1.        ,  1.        ],\n",
       "       [-0.26930596, -0.84229325,  0.        ,  0.        ,  1.        ],\n",
       "       [-1.34953044, -1.06088143,  0.        ,  0.        ,  1.        ],\n",
       "       [ 0.99095592,  1.40378799,  0.        ,  2.        ,  1.        ],\n",
       "       [-0.62938079,  0.96266652,  1.        ,  0.        ,  1.        ],\n",
       "       [ 1.77111804,  0.74144827,  0.        ,  1.        ,  1.        ],\n",
       "       [ 0.15078133, -0.84755339,  0.        ,  1.        ,  1.        ],\n",
       "       [ 1.6510931 ,  0.06464314,  1.        ,  1.        ,  1.        ],\n",
       "       [-1.46955538, -0.67294586,  0.        ,  2.        ,  1.        ],\n",
       "       [ 1.71110557,  0.48998419,  0.        ,  0.        ,  1.        ],\n",
       "       [ 1.41104322, -0.70991298,  1.        ,  2.        ,  1.        ],\n",
       "       [-0.20929349,  0.41955671,  0.        ,  1.        ,  0.        ],\n",
       "       [ 0.27080627, -1.04729273,  1.        ,  2.        ,  0.        ],\n",
       "       [-1.70960526, -0.05137224,  0.        ,  2.        ,  0.        ],\n",
       "       [ 0.69089357,  1.39209878,  0.        ,  2.        ,  1.        ],\n",
       "       [-1.52956785,  1.47596885,  0.        ,  2.        ,  0.        ],\n",
       "       [-1.28951797, -1.14796603,  1.        ,  2.        ,  1.        ],\n",
       "       [-0.44934337,  1.05544961,  0.        ,  2.        ,  0.        ],\n",
       "       [-0.92944314,  1.9845955 ,  0.        ,  2.        ,  1.        ],\n",
       "       [ 1.53106816, -0.87940649,  1.        ,  2.        ,  1.        ],\n",
       "       [ 0.15078133, -0.59915773,  0.        ,  1.        ,  1.        ],\n",
       "       [ 0.99095592,  0.3178606 ,  0.        ,  1.        ,  1.        ],\n",
       "       [ 0.6308811 , -1.25755235,  1.        ,  0.        ,  0.        ],\n",
       "       [ 0.33081875, -0.0113367 ,  1.        ,  0.        ,  0.        ],\n",
       "       [-0.20929349, -0.70582175,  1.        ,  1.        ,  1.        ],\n",
       "       [ 0.15078133, -0.79845872,  1.        ,  2.        ,  1.        ],\n",
       "       [-0.32931843,  0.0148179 ,  1.        ,  0.        ,  1.        ],\n",
       "       [ 1.05096839,  0.10613983,  1.        ,  0.        ,  1.        ],\n",
       "       [ 0.03075639, -1.09551071,  1.        ,  1.        ,  0.        ],\n",
       "       [ 1.77111804, -0.92061094,  1.        ,  2.        ,  1.        ],\n",
       "       [ 0.09076886,  2.74965413,  0.        ,  2.        ,  1.        ],\n",
       "       [ 1.77111804, -0.57402594,  1.        ,  1.        ,  0.        ],\n",
       "       [-0.50935585, -0.05517123,  0.        ,  2.        ,  0.        ],\n",
       "       [ 0.69089357, -0.1245759 ,  1.        ,  1.        ,  1.        ],\n",
       "       [-1.34953044, -1.12750992,  1.        ,  1.        ,  1.        ],\n",
       "       [ 0.15078133, -0.84068599,  1.        ,  1.        ,  1.        ],\n",
       "       [-1.22950549, -0.76894347,  0.        ,  0.        ,  1.        ],\n",
       "       [ 1.29101828, -1.13393898,  0.        ,  0.        ,  0.        ],\n",
       "       [ 0.15078133,  2.58249846,  1.        ,  1.        ,  0.        ],\n",
       "       [-1.46955538, -0.61099306,  0.        ,  1.        ,  0.        ],\n",
       "       [-1.40954291,  1.86507335,  0.        ,  2.        ,  0.        ],\n",
       "       [ 0.27080627,  0.05952912,  0.        ,  0.        ,  1.        ],\n",
       "       [ 1.17099334, -1.1844948 ,  1.        ,  0.        ,  1.        ],\n",
       "       [ 0.93094345, -0.28252632,  1.        ,  2.        ,  1.        ],\n",
       "       [-1.58958032,  1.22859599,  0.        ,  2.        ,  0.        ],\n",
       "       [ 1.17099334,  0.73998711,  1.        ,  2.        ,  0.        ],\n",
       "       [-0.98945561, -0.4004412 ,  0.        ,  1.        ,  1.        ],\n",
       "       [-1.10948055, -0.52025558,  0.        ,  2.        ,  0.        ],\n",
       "       [ 0.99095592, -0.93872921,  1.        ,  0.        ,  1.        ],\n",
       "       [-0.32931843, -0.8998626 ,  0.        ,  0.        ,  0.        ],\n",
       "       [-0.74940573, -0.93843698,  1.        ,  2.        ,  0.        ],\n",
       "       [-0.8094182 ,  2.11843692,  1.        ,  2.        ,  1.        ],\n",
       "       [ 0.33081875,  0.19629285,  0.        ,  0.        ,  0.        ],\n",
       "       [-0.44934337, -1.00813388,  1.        ,  1.        ,  0.        ],\n",
       "       [ 0.03075639, -0.44033062,  0.        ,  2.        ,  1.        ],\n",
       "       [ 0.03075639, -0.85485915,  1.        ,  1.        ,  0.        ],\n",
       "       [-0.14928102, -0.45318875,  1.        ,  2.        ,  0.        ],\n",
       "       [-0.32931843, -0.28194186,  1.        ,  1.        ,  0.        ],\n",
       "       [ 0.39083122,  0.35468161,  1.        ,  2.        ,  1.        ],\n",
       "       [ 0.57086863,  1.28441196,  1.        ,  0.        ,  1.        ],\n",
       "       [ 0.81091851,  0.51847663,  0.        ,  2.        ,  1.        ],\n",
       "       [ 1.47105569, -0.84784562,  0.        ,  0.        ,  1.        ],\n",
       "       [ 0.15078133, -1.34200688,  0.        ,  0.        ,  0.        ],\n",
       "       [ 0.75090604, -0.24132186,  0.        ,  0.        ,  1.        ],\n",
       "       [-1.22950549, -0.93405353,  1.        ,  2.        ,  0.        ],\n",
       "       [ 1.47105569, -0.64474564,  1.        ,  1.        ,  0.        ],\n",
       "       [ 0.33081875, -0.462394  ,  0.        ,  0.        ,  1.        ],\n",
       "       [ 0.51085616, -0.25344942,  1.        ,  0.        ,  1.        ],\n",
       "       [-1.76961773, -0.99118453,  1.        ,  0.        ,  1.        ],\n",
       "       [ 0.69089357, -0.62838075,  0.        ,  1.        ,  1.        ],\n",
       "       [ 0.2107938 , -0.79217577,  1.        ,  2.        ,  0.        ],\n",
       "       [-0.56936832, -0.97861864,  1.        ,  1.        ,  0.        ],\n",
       "       [-0.08926855, -0.27697395,  1.        ,  2.        ,  1.        ],\n",
       "       [-0.44934337, -0.56423623,  0.        ,  1.        ,  0.        ],\n",
       "       [ 0.03075639,  0.30441802,  1.        ,  1.        ,  1.        ],\n",
       "       [-0.62938079,  0.48676965,  0.        ,  2.        ,  0.        ],\n",
       "       [-0.74940573, -1.22599149,  0.        ,  0.        ,  1.        ],\n",
       "       [-1.22950549,  1.44922979,  1.        ,  0.        ,  1.        ],\n",
       "       [-0.14928102,  0.75518308,  0.        ,  2.        ,  1.        ],\n",
       "       [ 0.75090604, -0.86537944,  0.        ,  2.        ,  0.        ],\n",
       "       [-1.46955538, -0.96239986,  0.        ,  0.        ,  0.        ],\n",
       "       [ 1.35103075,  0.00342092,  0.        ,  0.        ,  1.        ],\n",
       "       [ 1.71110557,  0.36242571,  0.        ,  2.        ,  1.        ],\n",
       "       [-0.32931843,  0.19833846,  0.        ,  0.        ,  0.        ],\n",
       "       [-0.62938079,  0.41429657,  1.        ,  2.        ,  1.        ],\n",
       "       [ 0.27080627, -0.7788793 ,  1.        ,  1.        ,  1.        ],\n",
       "       [-0.14928102,  1.95844089,  0.        ,  1.        ,  0.        ],\n",
       "       [-0.98945561,  0.42978477,  0.        ,  2.        ,  0.        ],\n",
       "       [-0.98945561,  1.63596488,  1.        ,  0.        ,  1.        ],\n",
       "       [-0.08926855, -0.43960005,  1.        ,  0.        ,  0.        ],\n",
       "       [ 0.39083122, -0.33176711,  0.        ,  0.        ,  1.        ],\n",
       "       [-0.3893309 ,  0.35468161,  1.        ,  1.        ,  1.        ],\n",
       "       [-1.70960526,  0.45871556,  1.        ,  2.        ,  0.        ],\n",
       "       [ 1.77111804, -0.06306145,  1.        ,  2.        ,  0.        ],\n",
       "       [-0.50935585, -0.68229722,  0.        ,  2.        ,  1.        ],\n",
       "       [-0.8094182 ,  0.1755445 ,  1.        ,  2.        ,  0.        ],\n",
       "       [ 1.41104322, -0.81482361,  1.        ,  1.        ,  1.        ],\n",
       "       [ 0.39083122, -0.66111053,  1.        ,  2.        ,  0.        ],\n",
       "       [ 1.53106816, -0.27770452,  1.        ,  2.        ,  1.        ],\n",
       "       [ 0.93094345, -1.05883582,  1.        ,  2.        ,  0.        ],\n",
       "       [-0.86943067, -0.79261412,  0.        ,  0.        ,  1.        ],\n",
       "       [-1.22950549,  0.37835225,  0.        ,  2.        ,  0.        ],\n",
       "       [-1.10948055,  0.48121728,  0.        ,  2.        ,  0.        ],\n",
       "       [-1.52956785, -0.3732638 ,  0.        ,  2.        ,  1.        ],\n",
       "       [ 0.75090604,  0.47639548,  1.        ,  1.        ,  0.        ],\n",
       "       [ 0.87093098, -0.28983208,  0.        ,  0.        ,  1.        ],\n",
       "       [-1.58958032, -1.03998698,  0.        ,  0.        ,  0.        ],\n",
       "       [ 0.45084369, -0.87283131,  1.        ,  0.        ,  1.        ],\n",
       "       [-0.98945561,  0.55632044,  0.        ,  0.        ,  1.        ],\n",
       "       [ 1.05096839,  1.65335257,  1.        ,  1.        ,  0.        ],\n",
       "       [ 0.09076886, -1.25404559,  1.        ,  0.        ,  0.        ],\n",
       "       [ 1.23100581,  2.79509593,  1.        ,  2.        ,  0.        ],\n",
       "       [-1.28951797, -0.52712299,  1.        ,  0.        ,  1.        ],\n",
       "       [-0.8094182 , -0.67805988,  1.        ,  2.        ,  0.        ],\n",
       "       [-1.16949302,  0.45930002,  1.        ,  0.        ,  1.        ],\n",
       "       [-0.26930596,  1.74730458,  1.        ,  2.        ,  1.        ],\n",
       "       [-0.32931843,  0.99788026,  0.        ,  1.        ,  0.        ],\n",
       "       [ 1.29101828,  0.0700494 ,  1.        ,  2.        ,  1.        ],\n",
       "       [ 1.53106816,  0.67525813,  0.        ,  0.        ,  1.        ],\n",
       "       [ 0.51085616,  1.03674687,  1.        ,  1.        ,  1.        ],\n",
       "       [ 0.51085616, -0.49278594,  0.        ,  2.        ,  0.        ]])"
      ]
     },
     "execution_count": 72,
     "metadata": {},
     "output_type": "execute_result"
    }
   ],
   "source": [
    "finalp.fit_transform(x_train)"
   ]
  },
  {
   "cell_type": "code",
   "execution_count": 73,
   "id": "973584d3",
   "metadata": {},
   "outputs": [],
   "source": [
    "x_train_fit = ctp.fit_transform(x_train)\n",
    "x_test_trans = ctp.transform(x_test)"
   ]
  },
  {
   "cell_type": "code",
   "execution_count": 74,
   "id": "ac98e3dc",
   "metadata": {},
   "outputs": [
    {
     "data": {
      "text/plain": [
       "array(['num__Age', 'num__Na_to_K', 'cat__Sex_M', 'ord__BP',\n",
       "       'ord__Cholesterol'], dtype=object)"
      ]
     },
     "execution_count": 74,
     "metadata": {},
     "output_type": "execute_result"
    }
   ],
   "source": [
    "ctp.get_feature_names_out()"
   ]
  },
  {
   "cell_type": "markdown",
   "id": "5a52d053",
   "metadata": {},
   "source": [
    "## Training"
   ]
  },
  {
   "cell_type": "code",
   "execution_count": 75,
   "id": "8b371be6",
   "metadata": {},
   "outputs": [],
   "source": [
    "mb = MixedNB(categorical_features= [2,3,4])\n",
    "model = mb.fit(x_train_fit, y_train)"
   ]
  },
  {
   "cell_type": "markdown",
   "id": "49aeccbf",
   "metadata": {},
   "source": [
    "## Model Evaluation"
   ]
  },
  {
   "cell_type": "code",
   "execution_count": 76,
   "id": "adcf6978",
   "metadata": {},
   "outputs": [
    {
     "data": {
      "text/plain": [
       "array([[18,  0,  0,  0,  0],\n",
       "       [ 0,  5,  0,  0,  0],\n",
       "       [ 1,  0,  2,  0,  0],\n",
       "       [ 0,  0,  0,  1,  2],\n",
       "       [ 0,  0,  0,  0, 11]], dtype=int64)"
      ]
     },
     "execution_count": 76,
     "metadata": {},
     "output_type": "execute_result"
    }
   ],
   "source": [
    "confusion_matrix(y_test,model.predict(x_test_trans))"
   ]
  },
  {
   "cell_type": "code",
   "execution_count": 77,
   "id": "f53139fe",
   "metadata": {},
   "outputs": [
    {
     "name": "stdout",
     "output_type": "stream",
     "text": [
      "              precision    recall  f1-score   support\n",
      "\n",
      "           0       0.95      1.00      0.97        18\n",
      "           1       1.00      1.00      1.00         5\n",
      "           2       1.00      0.67      0.80         3\n",
      "           3       1.00      0.33      0.50         3\n",
      "           4       0.85      1.00      0.92        11\n",
      "\n",
      "    accuracy                           0.93        40\n",
      "   macro avg       0.96      0.80      0.84        40\n",
      "weighted avg       0.93      0.93      0.91        40\n",
      "\n"
     ]
    }
   ],
   "source": [
    "print(classification_report(y_test,model.predict(x_test_trans)))"
   ]
  },
  {
   "cell_type": "code",
   "execution_count": 78,
   "id": "56cc7b0a",
   "metadata": {},
   "outputs": [
    {
     "data": {
      "text/plain": [
       "0.925"
      ]
     },
     "execution_count": 78,
     "metadata": {},
     "output_type": "execute_result"
    }
   ],
   "source": [
    "accuracy_score(y_test,model.predict(x_test_trans))\n"
   ]
  },
  {
   "cell_type": "markdown",
   "id": "00396c86",
   "metadata": {},
   "source": [
    "Finally the accuracy_score is 0.925"
   ]
  },
  {
   "cell_type": "code",
   "execution_count": 80,
   "id": "4943b65d",
   "metadata": {},
   "outputs": [],
   "source": [
    "\n",
    "pickle.dump(finalp,open(r\"C:\\Users\\Sravanthi\\Downloads\\final_drug1\",\"wb\")) \n",
    "pickle.dump(model,open(r\"C:\\Users\\Sravanthi\\Downloads\\model_drug1\",\"wb\"))"
   ]
  },
  {
   "cell_type": "code",
   "execution_count": 81,
   "id": "a8cce982",
   "metadata": {},
   "outputs": [
    {
     "data": {
      "text/plain": [
       "array(['DrugY', 'drugA', 'drugB', 'drugC', 'drugX'], dtype=object)"
      ]
     },
     "execution_count": 81,
     "metadata": {},
     "output_type": "execute_result"
    }
   ],
   "source": [
    "lb.classes_"
   ]
  },
  {
   "cell_type": "code",
   "execution_count": 82,
   "id": "b8c7a956",
   "metadata": {},
   "outputs": [
    {
     "data": {
      "text/plain": [
       "{0: 'DrugY', 1: 'drugA', 2: 'drugB', 3: 'drugC', 4: 'drugX'}"
      ]
     },
     "execution_count": 82,
     "metadata": {},
     "output_type": "execute_result"
    }
   ],
   "source": [
    "dict = {}\n",
    "for i in lb.classes_:                        # create a dictionary index of lbe.classes_ as key and lbe.classes_ as value\n",
    "    dict[list(lb.classes_).index(i)] = i\n",
    "dict"
   ]
  },
  {
   "cell_type": "code",
   "execution_count": 94,
   "id": "3d6db3ce",
   "metadata": {},
   "outputs": [
    {
     "name": "stdout",
     "output_type": "stream",
     "text": [
      "drugX\n"
     ]
    }
   ],
   "source": [
    "m = pd.DataFrame(list(x_test_trans)).iloc[[5]]\n",
    "pred = model.predict(m)   \n",
    "print(dict[pred[0]]) "
   ]
  },
  {
   "cell_type": "code",
   "execution_count": null,
   "id": "0a704212",
   "metadata": {},
   "outputs": [],
   "source": []
  }
 ],
 "metadata": {
  "kernelspec": {
   "display_name": "Python 3 (ipykernel)",
   "language": "python",
   "name": "python3"
  },
  "language_info": {
   "codemirror_mode": {
    "name": "ipython",
    "version": 3
   },
   "file_extension": ".py",
   "mimetype": "text/x-python",
   "name": "python",
   "nbconvert_exporter": "python",
   "pygments_lexer": "ipython3",
   "version": "3.11.4"
  }
 },
 "nbformat": 4,
 "nbformat_minor": 5
}
